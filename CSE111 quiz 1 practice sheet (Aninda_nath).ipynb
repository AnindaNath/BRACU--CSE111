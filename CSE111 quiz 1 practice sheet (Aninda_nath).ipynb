{
 "cells": [
  {
   "cell_type": "markdown",
   "id": "dab7f33b",
   "metadata": {},
   "source": [
    "# Question 1\n",
    "Write a Python program which will take N names from the user. Create a dictionary from the N names that will hold First_name, Middle_name and Last_name in separate keys. The inputs will take N at first and then take N names. You can assume that the names will contain less than or equal 3 words and there will be single space between each part of the name.\n",
    "\n",
    "**Sample Input:**\\  \n",
    "4\\\n",
    "Zubayer Ahmed\\\n",
    "Sadia Nur Amin\\\n",
    "Mehedi Hasan Shawon\\\n",
    "Nafis\\\n",
    "\n",
    "Sample Output: { \"Fname\" : [“Zubayer”, “Sadia”, “Mehedi”, “Nafis”] , \"Mname\" : [“Nur”, “Hasan”], \"Lname\" : [“Ahmed”, “Amin”, “Shawon”] }"
   ]
  },
  {
   "cell_type": "code",
   "execution_count": null,
   "id": "79d3dc31",
   "metadata": {},
   "outputs": [],
   "source": []
  },
  {
   "cell_type": "markdown",
   "id": "fac7dd5d",
   "metadata": {},
   "source": [
    "# Question 2\n",
    " One of the important tasks in computational biology is to find short repeating patterns from DNA sequences. These patterns help the biologists to analyze the functionality of different parts in a living being. As a computer science student, you are asked to write a program that will find all the patterns of a given length from a DNA sequence and their number of presence in that sequence. This information will help to find the dominant pattern of a given length in the sequence. You will also find the dominant pattern. Dominant pattern is the sequence which has maximum occurrence. If there are multiple dominant pattern the program will print “No Dominant Pattern found.” \n",
    "\n",
    "**Sample Input:**\\\n",
    "ATTCGATCG\\\n",
    "3\\\n",
    "**Sample Output:**\\\n",
    "ATT 1\\\n",
    "TTC 1\\\n",
    "TCG 2\\\n",
    "CGA 1\\\n",
    "GAT 1\\\n",
    "ATC 1\\\n",
    "**Dominant Pattern: TCG**\\\n",
    "\n",
    "\n",
    "**Sample Input:**\\\n",
    "ATTCGATCGATC\\\n",
    "4\\\n",
    "**Sample Output:**\\\n",
    "ATTC 1\\\n",
    "TTCG 1\\\n",
    "TCGA 2\\\n",
    "CGAT 2\\\n",
    "GATC 2\\\n",
    "ATCG 1\\\n",
    "**No Dominant Pattern found.**\\\n"
   ]
  },
  {
   "cell_type": "code",
   "execution_count": null,
   "id": "97829a09",
   "metadata": {},
   "outputs": [],
   "source": []
  },
  {
   "cell_type": "markdown",
   "id": "f1fdc097",
   "metadata": {},
   "source": [
    "# Question 3\n",
    "Counter Strike Global Offensive is a first person shooting(FPS) game where in a match 2 teams each with 5 members play against each other in different maps. Let's say there are 2 teams, Team A and Team B. For the first half (15 rounds) Team A will play as terrorists and Team B members will play as counter terrorists. In the second half(15 rounds) Team B will play as terrorists and Team A will play as counter terrorists. The first team to reach 16 rounds will win the match. In order for the terrorist team to win a round they have to plant, defend and explode a bomb at a particular spot or eliminate all the members of the counter terrorist team. In order for the counter terrorist team to win a round, they have to eliminate all the members of the terrorist team or diffuse the bomb that was planted by the terrorist team. Unlike other games, the Most Valuable Player(MVP), can be from any of the two teams regardless of which team wins based on the points calculated from performance of the players. Now you will be given the status of a match between 2 teams as input that will contain performance(Kill, Death, Assist, Bomb Plant, Bomb Defuse, Teammate kill)  of all 10 players of the 2 participating teams. **Each performance category contains points based on following criteria:**\\\n",
    "2 points for a bomb plant.\\\n",
    "2 points for a kill.\\\n",
    "1 point for an assist.\\\n",
    "3 points for defusing a bomb.\\\n",
    "-1 point for killing a teammate.\\\n",
    "Now your task is to find the top 3 players based on the total point. For simplicity, you can consider  that no 2 players will have the same point.\\\n",
    "\n",
    "**Input format:**\\\n",
    "\n",
    "Team Name\\\n",
    "Player Name\\\n",
    "Kills\\\n",
    "Deaths\\ \n",
    "Assists\\\n",
    "Bomb Plant\\\n",
    "Bomb Defuse\\\n",
    "Teammate Kills\n",
    "\n",
    "\n",
    "**Sample Input:**\\\n",
    "\n",
    "NaVi flamie 23 13 3 2 2 0\\\n",
    "\n",
    "Fnatic Xizt 15 20 3 2 0 2\\\n",
    "\n",
    "Fnatic KRIMZ 12 23 9 2 2 1\\\n",
    "\n",
    "Navi electronic 24 13 5 2 2 0\\\n",
    "\n",
    "Navi Zeus 14 22 12 2 2 0\\\n",
    "\n",
    "Navi Edward 20 18 8 1 1 1\\\n",
    "\n",
    "Fnatic JW 13 24 5 3 0 0\\\n",
    "\n",
    "Navi s1mple 26 13 6 3 2 1\\\n",
    "\n",
    "Fnatic twist 25 20 4 2 3 2\\\n",
    "\n",
    "Fnatic Brollan 14 20 3 2 1 0\\\n",
    "\n",
    "**Sample Output:**\\\n",
    "First: s1mple\\\n",
    "Second: twist\\\n",
    "Third: electronic\n"
   ]
  },
  {
   "cell_type": "code",
   "execution_count": 1,
   "id": "a3c2c3ae",
   "metadata": {},
   "outputs": [
    {
     "name": "stdout",
     "output_type": "stream",
     "text": [
      "enter the player game: NaVi flamie 23 13 3 2 2 0\n",
      "enter the player game: Fnatic Xizt 15 20 3 2 0 2\n",
      "enter the player game: Fnatic KRIMZ 12 23 9 2 2 1\n",
      "enter the player game: Navi electronic 24 13 5 2 2 0\n",
      "enter the player game: Navi Zeus 14 22 12 2 2 0\n",
      "enter the player game: Navi Edward 20 18 8 1 1 1\n",
      "enter the player game: Fnatic JW 13 24 5 3 0 0\n",
      "enter the player game: Navi s1mple 26 13 6 3 2 1\n",
      "enter the player game: Fnatic twist 25 20 4 2 3 2\n",
      "enter the player game: Fnatic Brollan 14 20 3 2 1 0\n",
      "First: s1mple\n",
      "Second: twist\n",
      "Third: electronic\n"
     ]
    }
   ],
   "source": []
  },
  {
   "cell_type": "markdown",
   "id": "bc57f2c7",
   "metadata": {},
   "source": [
    "# Question 4 \n",
    "You will be given a String S which contains only two characters - A and B. Your task is to find some substring pattern P in that string. The pattern P is - a substring will contain an equal number of A and B in each side. For example, in AABAABBAA, we get AB, AABB, BA, BBAA. In this problem, you have to print each pattern P present in the string S along with their frequency. Finally, print the largest pattern P. If there are multiple largest patterns, print the one that came first.\n",
    "\n",
    "**Sample Input**\\\n",
    "AABAABBAA\n",
    "\n",
    "**Sample Output**\\\n",
    "AB - 2 times\\\n",
    "BA - 2 times\\\n",
    "AABB - 1 times\\\n",
    "BBAA - 1 times\\\n",
    "**Longest Pattern - AABB**\\\n"
   ]
  },
  {
   "cell_type": "code",
   "execution_count": 3,
   "id": "1c850162",
   "metadata": {},
   "outputs": [
    {
     "name": "stdout",
     "output_type": "stream",
     "text": [
      "AB - 2 times\n",
      "BA - 2 times\n",
      "AABB - 1 times\n",
      "BBAA - 1 times\n",
      "BBAA\n"
     ]
    }
   ],
   "source": []
  },
  {
   "cell_type": "code",
   "execution_count": null,
   "id": "3c83cc3f",
   "metadata": {},
   "outputs": [],
   "source": []
  },
  {
   "cell_type": "markdown",
   "id": "37ae293e",
   "metadata": {},
   "source": [
    "##### Question 5\n",
    "Write a program that reads a long sequence of characters and a word of length 3 with unique characters from the user. Then print the number of times the given word can be written from the characters in the given sequence.\\\n",
    "**Sample input:**\\\n",
    "Enter Sequence of characters: that is a cat\\\n",
    "given word: hat\\\n",
    "**Sample output:**\\\n",
    "Number of times ‘hat’ can be written from the given sequence: 1\n",
    " \n",
    "**Sample input:**\\\n",
    "Enter Sequence of characters: Lorem Ipsum has been the industry's standard dummy text ever since the 1500s, when an unknown printer took a galley of type and scrambled it to make a type specimen book.\\\n",
    "given word: red\\\n",
    "**Sample output:**\\\n",
    "Number of times ‘red’ can be written: 6\n"
   ]
  },
  {
   "cell_type": "code",
   "execution_count": 20,
   "id": "0ad128b7",
   "metadata": {
    "scrolled": true
   },
   "outputs": [
    {
     "name": "stdout",
     "output_type": "stream",
     "text": [
      "Lorem Ipsum has been the industry's standard dummy text ever since the 1500s, when an unknown printer took a galley of type and scrambled it to make a type specimen book.\n",
      "['Lor', 'ore', 'rem', 'Ips', 'psu', 'sum', 'has', 'bee', 'een', 'the', 'ind', 'ndu', 'dus', 'ust', 'str', 'try', \"ry'\", \"y's\", 'sta', 'tan', 'and', 'nda', 'dar', 'ard', 'dum', 'umm', 'mmy', 'tex', 'ext', 'eve', 'ver', 'sin', 'inc', 'nce', 'the', '150', '500', '00s', '0s,', 'whe', 'hen', 'unk', 'nkn', 'kno', 'now', 'own', 'pri', 'rin', 'int', 'nte', 'ter', 'too', 'ook', 'gal', 'all', 'lle', 'ley', 'typ', 'ype', 'and', 'scr', 'cra', 'ram', 'amb', 'mbl', 'ble', 'led', 'mak', 'ake', 'typ', 'ype', 'spe', 'pec', 'eci', 'cim', 'ime', 'men', 'boo', 'ook', 'ok.']\n",
      "0\n"
     ]
    }
   ],
   "source": []
  },
  {
   "cell_type": "markdown",
   "id": "f22e8d45",
   "metadata": {},
   "source": [
    "# \t\t\t\tQuestion 6\n",
    "As a software engineer, you are hired to arrange cricket players based on their country and type. You have given all the player’s information in a tuple called my_tuple. The players are from 3 countries which are Bangladesh, Australia and England. They are 2 types which are “Batters” and “Bowlers”\n",
    "\n",
    "You are given the following nested tuple where each element in the my_tuple is a tuple consisting of a name and a 4 digit ID. \n",
    " \n",
    "my_tuple = ((\"Mominul\", 1101),(\"Mustafiz\", 1202),(\"Bell\", 2101),(\"Cook\", 2103),(\"Smith\", 3101),(\"Finch\", 3102),(\"Starc\", 3203), (\"Imrul\", 1103), (\"Taijul\", 1204))\n",
    "\n",
    "Write a python program that will convert this tuple into the following dictionary using the process described below: Your code should work for all types of similar tuple if the sample input is changed. \n",
    "\n",
    "Output dictionary (You just have to print the resultant dictionary. No need to follow the pattern below)\n",
    "{\\\n",
    "'Bangladesh':\\ \n",
    "    {\n",
    "    'Batters': ('Mominul', 'Imrul'),\\ \n",
    "    'Bowlers': ('Mustafiz', 'Taijul')\\\n",
    "    }, \n",
    "'England':\\ \n",
    "  {\\\n",
    "   'Batters': ('Bell', 'Cook')\\\n",
    "   },\\\n",
    "'Australia':\\\n",
    "    {\\\n",
    "    'Batters': ('Smith', 'Finch'),\\ \n",
    "    'Bowlers': 'Starc'\\\n",
    "    }\\\n",
    "}\n",
    "\n",
    "Here you need to convert the given tuple into the output using the 4 digit ID. The rules are given below:\\\n",
    "1==> First digit of the ID represents the country. Here\\\n",
    "    1a--> 1 means Bangladesh\\\n",
    "    1b--> 2 means England\\\n",
    "    1c--> 3 Means Australia\\\n",
    "2==> Second digit of the ID represents type. Here\\\n",
    "    2a--> 1 means Batters\\\n",
    "    2b--> 2 means Bowlers\\\n",
    "3==> If you have multiple players in a category use tuple to store the multiple names as the value of the nested dictionary\n",
    "4==> If any type is missing from the country, no need to add that type as key in the nested dictionary (e.g: Bowlers is not present as key in the nested dictionary situated in England key)\\\n",
    "5==> If your output dictionary’s key value pair sequence is not the same as the shown output you should not worry about that. However, the key value pair should be exactly the same\n"
   ]
  },
  {
   "cell_type": "code",
   "execution_count": 9,
   "id": "aba78dff",
   "metadata": {},
   "outputs": [
    {
     "name": "stdout",
     "output_type": "stream",
     "text": [
      "[]\n",
      "['Mominul']\n",
      "['Mustafiz']\n",
      "[]\n",
      "[]\n",
      "['Imrul']\n",
      "['Taijul']\n",
      "[]\n",
      "{'Bangladesh': {'Batters': (), 'Blowers': ('Taijul',)}, 'England': {}, 'Australia': {}}\n"
     ]
    }
   ],
   "source": []
  },
  {
   "cell_type": "markdown",
   "id": "d0b77c0b",
   "metadata": {},
   "source": [
    "# Question 7\n",
    "You are given a list of courses that are currently available in BRACU that looks like the following:\n",
    "    \n",
    "courses = ['CSE110','CSE111','MAT620','CSE520','EEE361','CSE650','MAT510'].\n",
    "\n",
    "All courses till 400 level (499) are for the undergraduate students whereas any courses above 500 are for the graduate or masters students.\n",
    "\n",
    "Write a python program that creates a dictionary from the above list where the keys will be each department name\\(CSE,EEE,MAT for the above example) and their values will be a dictionary of two keys -\\\n",
    "Undergraduate Courses and Graduate Courses.\n",
    "\n",
    "Each key will have courses that fall in Undergraduate and Graduate level respectively.\\\n",
    "\n",
    "\n",
    "**Sample Input - No need to take input**\\\n",
    "\n",
    "['CSE110','CSE111','MAT620','CSE520','EEE361','CSE650','MAT510']\n",
    "\n",
    "**Sample Output: (You just have to print the resultant dictionary. No need to follow the pattern below)**\\\n",
    "\n",
    "{\n",
    "    'CSE':{\\\n",
    "        'Undergraduate':['CSE110','CSE111'],\\\n",
    "        'Graduate':['CSE520','CSE650']\\\n",
    "    },\\\n",
    "    'EEE':{\\\n",
    "        'Undergraduate':['EEE361'],\\\n",
    "        'Graduate':[]\\\n",
    "    },\\\n",
    "    'MAT':{\\\n",
    "        'Undergraduate':[],\\\n",
    "        'Graduate':['MAT510','MAT620']\\\n",
    "    }\\   \n",
    "}\n"
   ]
  },
  {
   "cell_type": "code",
   "execution_count": 5,
   "id": "8f5803fc",
   "metadata": {},
   "outputs": [
    {
     "name": "stdout",
     "output_type": "stream",
     "text": [
      "{'CSE': {'Undergraduate': ['CSE110', 'CSE111'], 'graduate': ['CSE520', 'CSE650']}, 'EEE': {'Undergraduate': ['EEE220'], 'graduate': []}, 'MAT': {'Undergraduate': [], 'graduate': ['MAT510']}}\n"
     ]
    }
   ],
   "source": []
  },
  {
   "cell_type": "markdown",
   "id": "586a8de1",
   "metadata": {},
   "source": [
    "# Question 8\n",
    "An IP address is divided into 4 sections where each section contains 1-3 digits. An example of an IP address would be 192.168.10.3 . Now IP addresses have 2 parts; One is the network part while the other one is the host part. If the network part is 1, we get a special address from the given IP address where the 1st section will remain as it is and the rest of the 3 sections will become 0. If the network part is 2, we get a special address from the given IP address where the first 2 sections will remain as it is and the rest of the 2 sections will become 0. Same goes for other values of the network part. For simplicity we will consider the network part can be 1 or 2 or 3.\n",
    "\n",
    "**Lets see an example:**\\\n",
    "\n",
    "IP address: 192.168.10.30\\\n",
    "If network part = 1 , then special address = 192.0.0.0\\\n",
    "If network part = 2 , then special address = 192.168.0.0\\\n",
    "If network bits = 3 , then special address = 192.168.10.0\\\n",
    "\n",
    "All IP addresses starting like the special address will fall under the same special network. You will be given the value of the network part and a list of IP addresses as input. Your task will be to create a dictionary where the keys will be the\\ unique special addresses and the corresponding values will be the list of IP addresses that fall under the same special\\ network.\n",
    "\n",
    "Input format: Value of network part<Space>List of IP addresses separated by “,”\n",
    "\n",
    "**Sample Input 1:**\\\n",
    "1 192.168.30.10,168.192.100.30,192.152.55.10,240.169.10.10,168.200.43.90,192.169.100.45\n",
    "\n",
    "**Sample Output 1:**\\\n",
    "{\n",
    "“192.0.0.0”: [“192.168.30.10”, “192.152.55.10”, “192.169.100.45”],\\\n",
    "“168.0.0.0”: [“168.192.100.30”, “168.200.43.90”],\\\n",
    "“240.0.0.0”: [“240.169.10.10”]\\\n",
    "}\n",
    "\n",
    "**Sample Input 2:**\\\n",
    "2 192.168.30.10,168.192.100.30,192.168.55.10,240.169.10.10,168.192.43.90,192.169.100.45\n",
    "\n",
    "**Sample Output 2:**\\\n",
    "{\\\n",
    "“192.168.0.0”: [“192.168.30.10”, “192.168.55.10”],\\\n",
    "“168.192.0.0”: [“168.192.100.30”, “168.192.43.90”],\\\n",
    "“240.169.0.0”: [“240.169.10.10”]\\\n",
    "“192.169.0.0”: [“192.169.100.45”]\\\n",
    "}\n"
   ]
  },
  {
   "cell_type": "code",
   "execution_count": 1,
   "id": "fd81e286",
   "metadata": {},
   "outputs": [
    {
     "name": "stdout",
     "output_type": "stream",
     "text": [
      "['1 192.168.30.10', '168.192.100.30', '192.152.55.10', '240.169.10.10', '168.200.43.90', '192.169.100.45']\n"
     ]
    }
   ],
   "source": []
  },
  {
   "cell_type": "code",
   "execution_count": null,
   "id": "8b0aa099",
   "metadata": {},
   "outputs": [],
   "source": []
  }
 ],
 "metadata": {
  "kernelspec": {
   "display_name": "Python 3",
   "language": "python",
   "name": "python3"
  },
  "language_info": {
   "codemirror_mode": {
    "name": "ipython",
    "version": 3
   },
   "file_extension": ".py",
   "mimetype": "text/x-python",
   "name": "python",
   "nbconvert_exporter": "python",
   "pygments_lexer": "ipython3",
   "version": "3.8.8"
  }
 },
 "nbformat": 4,
 "nbformat_minor": 5
}
